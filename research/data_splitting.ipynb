{
 "cells": [
  {
   "cell_type": "code",
   "execution_count": 1,
   "id": "006686ad",
   "metadata": {},
   "outputs": [],
   "source": [
    "import pandas as pd\n",
    "from sklearn.model_selection import train_test_split\n"
   ]
  },
  {
   "cell_type": "code",
   "execution_count": 2,
   "id": "8173d79e",
   "metadata": {},
   "outputs": [],
   "source": [
    "from model.Preprocessing import Preprocessing"
   ]
  },
  {
   "cell_type": "code",
   "execution_count": 3,
   "id": "b7d1f69d",
   "metadata": {},
   "outputs": [
    {
     "name": "stderr",
     "output_type": "stream",
     "text": [
      "2025-08-24 21:07:13,709 [INFO] Loading data from ../artifacts/data/train_data.json...\n",
      "2025-08-24 21:07:20,548 [INFO] Data loaded: 481895 rows.\n",
      "2025-08-24 21:07:20,551 [INFO] Loading state to region mapping...\n",
      "2025-08-24 21:07:20,557 [INFO] Mapping loaded: 51 states.\n",
      "2025-08-24 21:07:20,558 [INFO] Cleaning data...\n",
      "/mnt/c/Users/fa-yy/Desktop/1447/Git_Projects/churn-prediction/src/model/Preprocessing.py:70: FutureWarning: A value is trying to be set on a copy of a DataFrame or Series through chained assignment using an inplace method.\n",
      "The behavior will change in pandas 3.0. This inplace method will never work because the intermediate object on which we are setting values always behaves as a copy.\n",
      "\n",
      "For example, when doing 'df[col].method(value, inplace=True)', try using 'df.method({col: value}, inplace=True)' or df[col] = df[col].method(value) instead, to perform the operation inplace on the original object.\n",
      "\n",
      "\n",
      "  data[\"length\"].fillna(0, inplace=True)\n",
      "/mnt/c/Users/fa-yy/Desktop/1447/Git_Projects/churn-prediction/src/model/Preprocessing.py:71: FutureWarning: A value is trying to be set on a copy of a DataFrame or Series through chained assignment using an inplace method.\n",
      "The behavior will change in pandas 3.0. This inplace method will never work because the intermediate object on which we are setting values always behaves as a copy.\n",
      "\n",
      "For example, when doing 'df[col].method(value, inplace=True)', try using 'df.method({col: value}, inplace=True)' or df[col] = df[col].method(value) instead, to perform the operation inplace on the original object.\n",
      "\n",
      "\n",
      "  data[\"artist\"].fillna(\"Unknown\", inplace=True)\n",
      "/mnt/c/Users/fa-yy/Desktop/1447/Git_Projects/churn-prediction/src/model/Preprocessing.py:72: FutureWarning: A value is trying to be set on a copy of a DataFrame or Series through chained assignment using an inplace method.\n",
      "The behavior will change in pandas 3.0. This inplace method will never work because the intermediate object on which we are setting values always behaves as a copy.\n",
      "\n",
      "For example, when doing 'df[col].method(value, inplace=True)', try using 'df.method({col: value}, inplace=True)' or df[col] = df[col].method(value) instead, to perform the operation inplace on the original object.\n",
      "\n",
      "\n",
      "  data[\"song\"].fillna(\"Unknown\", inplace=True)\n",
      "2025-08-24 21:07:22,232 [INFO] Data cleaned: 481895 rows remaining.\n",
      "2025-08-24 21:07:22,322 [INFO] Starting feature extraction...\n",
      "2025-08-24 21:07:24,083 [INFO] Feature extraction completed.\n",
      "2025-08-24 21:07:24,258 [INFO] Preprocessing completed.\n"
     ]
    }
   ],
   "source": [
    "df = Preprocessing(\"../artifacts/data/train_data.json\").preprocess_data()"
   ]
  },
  {
   "cell_type": "code",
   "execution_count": 6,
   "id": "1ef72610",
   "metadata": {},
   "outputs": [
    {
     "data": {
      "text/plain": [
       "label\n",
       "0    248\n",
       "1    111\n",
       "Name: count, dtype: int64"
      ]
     },
     "execution_count": 6,
     "metadata": {},
     "output_type": "execute_result"
    }
   ],
   "source": [
    "df['label'].value_counts()"
   ]
  },
  {
   "cell_type": "code",
   "execution_count": 7,
   "id": "11d90c99",
   "metadata": {},
   "outputs": [
    {
     "name": "stderr",
     "output_type": "stream",
     "text": [
      "2025-08-24 21:11:35,890 [INFO] Loading data from ../artifacts/data/test_data.json...\n",
      "2025-08-24 21:11:40,989 [INFO] Data loaded: 324166 rows.\n",
      "2025-08-24 21:11:40,990 [INFO] Loading state to region mapping...\n",
      "2025-08-24 21:11:40,996 [INFO] Mapping loaded: 51 states.\n",
      "2025-08-24 21:11:40,997 [INFO] Cleaning data...\n",
      "/mnt/c/Users/fa-yy/Desktop/1447/Git_Projects/churn-prediction/src/model/Preprocessing.py:70: FutureWarning: A value is trying to be set on a copy of a DataFrame or Series through chained assignment using an inplace method.\n",
      "The behavior will change in pandas 3.0. This inplace method will never work because the intermediate object on which we are setting values always behaves as a copy.\n",
      "\n",
      "For example, when doing 'df[col].method(value, inplace=True)', try using 'df.method({col: value}, inplace=True)' or df[col] = df[col].method(value) instead, to perform the operation inplace on the original object.\n",
      "\n",
      "\n",
      "  data[\"length\"].fillna(0, inplace=True)\n",
      "/mnt/c/Users/fa-yy/Desktop/1447/Git_Projects/churn-prediction/src/model/Preprocessing.py:71: FutureWarning: A value is trying to be set on a copy of a DataFrame or Series through chained assignment using an inplace method.\n",
      "The behavior will change in pandas 3.0. This inplace method will never work because the intermediate object on which we are setting values always behaves as a copy.\n",
      "\n",
      "For example, when doing 'df[col].method(value, inplace=True)', try using 'df.method({col: value}, inplace=True)' or df[col] = df[col].method(value) instead, to perform the operation inplace on the original object.\n",
      "\n",
      "\n",
      "  data[\"artist\"].fillna(\"Unknown\", inplace=True)\n",
      "/mnt/c/Users/fa-yy/Desktop/1447/Git_Projects/churn-prediction/src/model/Preprocessing.py:72: FutureWarning: A value is trying to be set on a copy of a DataFrame or Series through chained assignment using an inplace method.\n",
      "The behavior will change in pandas 3.0. This inplace method will never work because the intermediate object on which we are setting values always behaves as a copy.\n",
      "\n",
      "For example, when doing 'df[col].method(value, inplace=True)', try using 'df.method({col: value}, inplace=True)' or df[col] = df[col].method(value) instead, to perform the operation inplace on the original object.\n",
      "\n",
      "\n",
      "  data[\"song\"].fillna(\"Unknown\", inplace=True)\n",
      "2025-08-24 21:11:41,994 [INFO] Data cleaned: 324166 rows remaining.\n",
      "2025-08-24 21:11:42,041 [INFO] Starting feature extraction...\n",
      "2025-08-24 21:11:42,932 [INFO] Feature extraction completed.\n",
      "2025-08-24 21:11:43,058 [INFO] Preprocessing completed.\n"
     ]
    }
   ],
   "source": [
    "df_test = Preprocessing(\"../artifacts/data/test_data.json\").preprocess_data()"
   ]
  },
  {
   "cell_type": "code",
   "execution_count": 8,
   "id": "65813871",
   "metadata": {},
   "outputs": [
    {
     "data": {
      "text/plain": [
       "label\n",
       "0    70\n",
       "1    20\n",
       "Name: count, dtype: int64"
      ]
     },
     "execution_count": 8,
     "metadata": {},
     "output_type": "execute_result"
    }
   ],
   "source": [
    "df_test['label'].value_counts()"
   ]
  },
  {
   "cell_type": "code",
   "execution_count": null,
   "id": "5a331c63",
   "metadata": {},
   "outputs": [],
   "source": []
  }
 ],
 "metadata": {
  "kernelspec": {
   "display_name": "churn-prediction",
   "language": "python",
   "name": "python3"
  },
  "language_info": {
   "codemirror_mode": {
    "name": "ipython",
    "version": 3
   },
   "file_extension": ".py",
   "mimetype": "text/x-python",
   "name": "python",
   "nbconvert_exporter": "python",
   "pygments_lexer": "ipython3",
   "version": "3.13.7"
  }
 },
 "nbformat": 4,
 "nbformat_minor": 5
}
