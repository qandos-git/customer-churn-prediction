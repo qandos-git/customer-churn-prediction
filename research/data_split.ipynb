{
 "cells": [
  {
   "cell_type": "code",
   "execution_count": 1,
   "id": "4c1ff066",
   "metadata": {},
   "outputs": [],
   "source": [
    "import pandas as pd"
   ]
  },
  {
   "cell_type": "code",
   "execution_count": 2,
   "id": "30662428",
   "metadata": {},
   "outputs": [],
   "source": [
    "data_path_all = \"../artifacts/data/customer_churn.json\"\n",
    "data_path_mini = \"../artifacts/data/customer_churn_mini.json\""
   ]
  },
  {
   "cell_type": "code",
   "execution_count": 3,
   "id": "eea80411",
   "metadata": {},
   "outputs": [],
   "source": [
    "df_all = pd.read_json(data_path_all, lines=True)\n",
    "df_mini = pd.read_json(data_path_mini, lines=True)"
   ]
  },
  {
   "cell_type": "code",
   "execution_count": 4,
   "id": "ee5f9c9b",
   "metadata": {},
   "outputs": [],
   "source": [
    "# Concatenate both dataframes after ensureing they have the same columns\n",
    "df = pd.concat([df_all, df_mini], ignore_index=True)"
   ]
  },
  {
   "cell_type": "code",
   "execution_count": null,
   "id": "fe09cc90",
   "metadata": {},
   "outputs": [],
   "source": [
    "df[\"ts\"] = pd.to_datetime(df[\"ts\"], unit=\"ms\")\n",
    "\n",
    "last_seen = df.groupby(\"userId\")[\"ts\"].max().reset_index()\n",
    "last_seen = last_seen.sort_values(\"ts\")\n",
    "\n",
    "test_ratio = 0.2\n",
    "cutoff = int(len(last_seen) * (1 - test_ratio))\n",
    "\n",
    "train_users = last_seen.iloc[:cutoff][\"userId\"]\n",
    "test_users = last_seen.iloc[cutoff:][\"userId\"]\n",
    "\n",
    "train_df = df[df[\"userId\"].isin(train_users)].reset_index(drop=True)\n",
    "test_df = df[df[\"userId\"].isin(test_users)].reset_index(drop=True)\n",
    "\n",
    "# train_df.to_json(\"../artifacts/data/train_data.json\", lines=True, orient=\"records\")\n",
    "# test_df.to_json(\"../artifacts/data/test_data.json\", lines=True, orient=\"records\")"
   ]
  }
 ],
 "metadata": {
  "kernelspec": {
   "display_name": "churn-prediction",
   "language": "python",
   "name": "python3"
  },
  "language_info": {
   "codemirror_mode": {
    "name": "ipython",
    "version": 3
   },
   "file_extension": ".py",
   "mimetype": "text/x-python",
   "name": "python",
   "nbconvert_exporter": "python",
   "pygments_lexer": "ipython3",
   "version": "3.13.7"
  }
 },
 "nbformat": 4,
 "nbformat_minor": 5
}
